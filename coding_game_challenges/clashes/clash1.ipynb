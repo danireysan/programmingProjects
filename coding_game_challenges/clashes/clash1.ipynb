{
 "cells": [
  {
   "cell_type": "code",
   "execution_count": 2,
   "metadata": {},
   "outputs": [
    {
     "ename": "TypeError",
     "evalue": "'function' object is not subscriptable",
     "output_type": "error",
     "traceback": [
      "\u001b[1;31m---------------------------------------------------------------------------\u001b[0m",
      "\u001b[1;31mTypeError\u001b[0m                                 Traceback (most recent call last)",
      "\u001b[1;32mc:\\Users\\DANNY\\Documents\\programmingProjects\\coding_game_challenges\\clashes\\clash1.ipynb Cell 1\u001b[0m in \u001b[0;36m<cell line: 23>\u001b[1;34m()\u001b[0m\n\u001b[0;32m     <a href='vscode-notebook-cell:/c%3A/Users/DANNY/Documents/programmingProjects/coding_game_challenges/clashes/clash1.ipynb#W0sZmlsZQ%3D%3D?line=19'>20</a>\u001b[0m     \u001b[39mif\u001b[39;00m \u001b[39mnot\u001b[39;00m c(i) \u001b[39min\u001b[39;00m rr:rr\u001b[39m+\u001b[39m\u001b[39m=\u001b[39m[c(i)]\n\u001b[0;32m     <a href='vscode-notebook-cell:/c%3A/Users/DANNY/Documents/programmingProjects/coding_game_challenges/clashes/clash1.ipynb#W0sZmlsZQ%3D%3D?line=21'>22</a>\u001b[0m \u001b[39m# Remove the commas of the element who has an index of n-1\u001b[39;00m\n\u001b[1;32m---> <a href='vscode-notebook-cell:/c%3A/Users/DANNY/Documents/programmingProjects/coding_game_challenges/clashes/clash1.ipynb#W0sZmlsZQ%3D%3D?line=22'>23</a>\u001b[0m \u001b[39mprint\u001b[39m([c[rr[n\u001b[39m-\u001b[39;49m\u001b[39m1\u001b[39;49m]]])\n",
      "\u001b[1;31mTypeError\u001b[0m: 'function' object is not subscriptable"
     ]
    }
   ],
   "source": [
    "import sys\n",
    "import math\n",
    "\n",
    "def c(x):\n",
    "    # If the last element of a string is a comma or a dot, remove the last element\n",
    "    if x[-1] in \".,\":x=x[0:-1]\n",
    "    return(x)\n",
    "# index of the word    \n",
    "n = 3\n",
    "words = \"Walk, Drink, Eat, Sleep, Repeat\"\n",
    "# turn all the letters to lowercase and split every string \n",
    "# that has a space between, once you have done that return a list\n",
    "sentence = words.lower().split()\n",
    "\n",
    "rr = []\n",
    "\n",
    "# for every element in sentence the list named sentece\n",
    "# use the c fuction to remove every comma it could have and add it to rr list\n",
    "for i in sentence:\n",
    "    if not c(i) in rr:rr+=[c(i)]\n",
    "\n",
    "# Remove the commas of the element who has an index of n-1\n",
    "print(c[rr[n-1]])"
   ]
  },
  {
   "cell_type": "code",
   "execution_count": null,
   "metadata": {},
   "outputs": [],
   "source": []
  }
 ],
 "metadata": {
  "kernelspec": {
   "display_name": "Python 3.9.12 ('base')",
   "language": "python",
   "name": "python3"
  },
  "language_info": {
   "codemirror_mode": {
    "name": "ipython",
    "version": 3
   },
   "file_extension": ".py",
   "mimetype": "text/x-python",
   "name": "python",
   "nbconvert_exporter": "python",
   "pygments_lexer": "ipython3",
   "version": "3.9.12"
  },
  "orig_nbformat": 4,
  "vscode": {
   "interpreter": {
    "hash": "910d26c39a991cdafb1a93d1569d74b5efe88c3a8b3543909f10660107674633"
   }
  }
 },
 "nbformat": 4,
 "nbformat_minor": 2
}
